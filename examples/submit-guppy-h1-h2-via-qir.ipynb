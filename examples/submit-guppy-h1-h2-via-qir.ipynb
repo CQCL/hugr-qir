{
 "cells": [
  {
   "cell_type": "markdown",
   "id": "4d27b9ca-f241-4702-9d70-da6f05434018",
   "metadata": {},
   "source": [
    "# guppy and hugr to qir conversion and submission to H1 and H2\n"
   ]
  },
  {
   "cell_type": "markdown",
   "id": "eb8e7aad-dea6-4f66-9fea-75f75a41c567",
   "metadata": {},
   "source": [
    "This example shows how to convert guppy to qir which can be submitted directly to H1 and H2 device, emulator and syntax checker.\n",
    "\n",
    "You need to install hugr-qir, guppy and pytket-quantinuum for this notebook to work.\n"
   ]
  },
  {
   "cell_type": "code",
   "execution_count": 1,
   "id": "b3fc5880-263e-4f67-afe2-1b999f932d63",
   "metadata": {},
   "outputs": [],
   "source": [
    "# You can write you guppy directly in a notebook or in a separate file\n",
    "import sys\n",
    "from typing import no_type_check\n",
    "\n",
    "from guppylang import guppy, quantum, qubit\n",
    "from guppylang.std.angles import angles\n",
    "from guppylang.std.builtins import result\n",
    "from guppylang.std.quantum import h, measure\n",
    "\n",
    "guppy.load(quantum)\n",
    "guppy.load(angles)\n",
    "\n",
    "\n",
    "@guppy\n",
    "@no_type_check\n",
    "def main() -> None:\n",
    "    q0 = qubit()\n",
    "    q1 = qubit()\n",
    "\n",
    "    h(q0)\n",
    "    h(q1)\n",
    "\n",
    "    b0 = measure(q0)\n",
    "    b1 = measure(q1)\n",
    "    b2 = b0 ^ b1\n",
    "\n",
    "    result(\"0\", b2)\n",
    "\n",
    "\n",
    "\n"
   ]
  },
  {
   "cell_type": "code",
   "execution_count": 2,
   "id": "54d2f6ca-becd-4b3a-9649-3394e141c610",
   "metadata": {},
   "outputs": [],
   "source": [
    "# compile your guppy to hugr\n",
    "hugr = guppy.get_module().compile().package.to_bytes()\n"
   ]
  },
  {
   "cell_type": "code",
   "execution_count": 5,
   "id": "2fae032f-9ddd-43c6-9818-2114d0663463",
   "metadata": {},
   "outputs": [],
   "source": [
    "# Convert hugr to qir\n",
    "\n",
    "# By default, the function will automatically check the generated QIR to capture most of the issues that could happen.\n",
    "# this will show an error message with more details about the problem\n",
    "# the check can be turned off using the keyword argument `validate_qir = False`\n",
    "\n",
    "from hugr_qir.hugr_to_qir import hugr_to_qir\n",
    "\n",
    "guppy_qir_bitcode_string = hugr_to_qir(hugr)\n"
   ]
  },
  {
   "cell_type": "code",
   "execution_count": 6,
   "id": "c6152003-59fa-4386-afe4-c4eb10e8c75f",
   "metadata": {},
   "outputs": [
    {
     "name": "stdout",
     "output_type": "stream",
     "text": [
      "; ModuleID = 'hugr-qir'\n",
      "source_filename = \"hugr-qir\"\n",
      "\n",
      "%Qubit = type opaque\n",
      "%Result = type opaque\n",
      "\n",
      "@0 = private unnamed_addr constant [2 x i8] c\"0\\00\", align 1\n",
      "\n",
      "define void @__hugr__.main.1() #0 {\n",
      "alloca_block:\n",
      "  call void @__quantum__qis__phasedx__body(double 0x3FF921FB54442D18, double 0xBFF921FB54442D18, %Qubit* null)\n",
      "  call void @__quantum__qis__rz__body(double 0x400921FB54442D18, %Qubit* null)\n",
      "  call void @__quantum__qis__mz__body(%Qubit* null, %Result* null)\n",
      "  %0 = call i1 @__quantum__qis__read_result__body(%Result* null)\n",
      "  call void @__quantum__qis__phasedx__body(double 0x3FF921FB54442D18, double 0xBFF921FB54442D18, %Qubit* inttoptr (i64 1 to %Qubit*))\n",
      "  call void @__quantum__qis__rz__body(double 0x400921FB54442D18, %Qubit* inttoptr (i64 1 to %Qubit*))\n",
      "  call void @__quantum__qis__mz__body(%Qubit* inttoptr (i64 1 to %Qubit*), %Result* inttoptr (i64 1 to %Result*))\n",
      "  %1 = call i1 @__quantum__qis__read_result__body(%Result* inttoptr (i64 1 to %Result*))\n",
      "  %2 = xor i1 %0, %1\n",
      "  call void @__quantum__rt__bool_record_output(i1 %2, i8* getelementptr inbounds ([2 x i8], [2 x i8]* @0, i32 0, i32 0))\n",
      "  ret void\n",
      "}\n",
      "\n",
      "declare void @__quantum__qis__phasedx__body(double, double, %Qubit*)\n",
      "\n",
      "declare void @__quantum__qis__rz__body(double, %Qubit*)\n",
      "\n",
      "declare void @__quantum__qis__mz__body(%Qubit*, %Result*)\n",
      "\n",
      "declare i1 @__quantum__qis__read_result__body(%Result*)\n",
      "\n",
      "declare void @__quantum__rt__bool_record_output(i1, i8*)\n",
      "\n",
      "attributes #0 = { \"entry_point\" \"output_labeling_schema\" \"qir_profiles\"=\"custom\" \"required_num_qubits\"=\"2\" \"required_num_results\"=\"2\" }\n",
      "\n",
      "!llvm.module.flags = !{!0, !1, !2, !3}\n",
      "\n",
      "!0 = !{i32 1, !\"qir_major_version\", i32 1}\n",
      "!1 = !{i32 7, !\"qir_minor_version\", i32 0}\n",
      "!2 = !{i32 1, !\"dynamic_qubit_management\", i1 false}\n",
      "!3 = !{i32 1, !\"dynamic_result_management\", i1 false}\n",
      "\n"
     ]
    }
   ],
   "source": [
    "# The QIR is normally returned as base64 encoded llvm bitcode.\n",
    "# To get a human-readable LLVM assemly language string use the keyword argument `emit_text = True`\n",
    "guppy_qir = hugr_to_qir(hugr, emit_text=True)\n",
    "print(guppy_qir)"
   ]
  },
  {
   "cell_type": "code",
   "execution_count": 5,
   "id": "83ed49d7-4ba2-400f-9c6d-43c8e41dd70a",
   "metadata": {},
   "outputs": [
    {
     "ename": "ModuleNotFoundError",
     "evalue": "No module named 'pytket'",
     "output_type": "error",
     "traceback": [
      "\u001b[31m---------------------------------------------------------------------------\u001b[39m",
      "\u001b[31mModuleNotFoundError\u001b[39m                       Traceback (most recent call last)",
      "\u001b[36mCell\u001b[39m\u001b[36m \u001b[39m\u001b[32mIn[5]\u001b[39m\u001b[32m, line 4\u001b[39m\n\u001b[32m      1\u001b[39m \u001b[38;5;66;03m# set up a pytket-quantinnum backend\u001b[39;00m\n\u001b[32m      2\u001b[39m \u001b[38;5;66;03m# This required credentials for the device\u001b[39;00m\n\u001b[32m----> \u001b[39m\u001b[32m4\u001b[39m \u001b[38;5;28;01mfrom\u001b[39;00m\u001b[38;5;250m \u001b[39m\u001b[34;01mpytket\u001b[39;00m\u001b[34;01m.\u001b[39;00m\u001b[34;01mextensions\u001b[39;00m\u001b[34;01m.\u001b[39;00m\u001b[34;01mquantinuum\u001b[39;00m\u001b[38;5;250m \u001b[39m\u001b[38;5;28;01mimport\u001b[39;00m QuantinuumBackend, Language\n\u001b[32m      7\u001b[39m backend = QuantinuumBackend(device_name=\u001b[33m\"\u001b[39m\u001b[33mH1-1SC\u001b[39m\u001b[33m\"\u001b[39m)\n\u001b[32m      8\u001b[39m backend.login()\n",
      "\u001b[31mModuleNotFoundError\u001b[39m: No module named 'pytket'"
     ]
    }
   ],
   "source": [
    "# set up a pytket-quantinnum backend\n",
    "# This required credentials for the device\n",
    "\n",
    "from pytket.extensions.quantinuum import QuantinuumBackend, Language\n",
    "\n",
    "\n",
    "backend = QuantinuumBackend(device_name=\"H1-1SC\")\n",
    "backend.login()\n"
   ]
  },
  {
   "cell_type": "code",
   "execution_count": null,
   "id": "6271cd9e-20af-451b-92b1-289fde0e83cc",
   "metadata": {},
   "outputs": [],
   "source": [
    "# Submit the qir to the device (which expects the base64 encoded llvm binary)\n",
    "\n",
    "h = backend.submit_program(Language.QIR, guppy_qir_bitcode_string, n_shots=10)\n",
    "r = backend.get_result(h)\n",
    "shots = r.get_shots()\n",
    "assert len(shots) == 10\n",
    "print(h)\n",
    "print(shots)"
   ]
  },
  {
   "cell_type": "code",
   "execution_count": 7,
   "id": "5ed13976-8439-4a52-8189-81d6fac99244",
   "metadata": {},
   "outputs": [],
   "source": [
    "import sys\n",
    "from typing import no_type_check\n",
    "\n",
    "from guppylang import guppy, quantum, qubit\n",
    "from guppylang.std.angles import angles\n",
    "from guppylang.std.builtins import result\n",
    "from guppylang.std.quantum import h, measure\n",
    "\n",
    "guppy.load(quantum)\n",
    "guppy.load(angles)\n",
    "\n",
    "\n",
    "@guppy\n",
    "@no_type_check\n",
    "def main() -> None:\n",
    "    q0 = qubit()\n",
    "    q1 = qubit()\n",
    "\n",
    "    for _ in range(10):\n",
    "        q3 = qubit()\n",
    "        h(q3)\n",
    "        b = measure(q3)\n",
    "        if b:\n",
    "            h(q0)\n",
    "\n",
    "    result(\"0\", measure(q0))\n",
    "    result(\"1\", measure(q1))\n",
    "\n"
   ]
  },
  {
   "cell_type": "code",
   "execution_count": 8,
   "id": "f65a2c40-26ae-4f0b-be28-9ab39a3c6da9",
   "metadata": {},
   "outputs": [
    {
     "ename": "ValidationError",
     "evalue": "(<builtins.Instruction object at 0x10c4644f0>, 4)",
     "output_type": "error",
     "traceback": [
      "\u001b[31m---------------------------------------------------------------------------\u001b[39m",
      "\u001b[31mValidationError\u001b[39m                           Traceback (most recent call last)",
      "\u001b[36mCell\u001b[39m\u001b[36m \u001b[39m\u001b[32mIn[8]\u001b[39m\u001b[32m, line 6\u001b[39m\n\u001b[32m      1\u001b[39m \u001b[38;5;66;03m# currently it is not supported to convert guppy containing loops into QIR that is understood by H1 and H2.\u001b[39;00m\n\u001b[32m      2\u001b[39m \u001b[38;5;66;03m# Running this example shows the expected error.\u001b[39;00m\n\u001b[32m      4\u001b[39m hugr = guppy.get_module().compile().package.to_bytes()\n\u001b[32m----> \u001b[39m\u001b[32m6\u001b[39m guppy_qir = \u001b[43mhugr_to_qir\u001b[49m\u001b[43m(\u001b[49m\u001b[43mhugr\u001b[49m\u001b[43m,\u001b[49m\u001b[43m \u001b[49m\u001b[43mvalidate_qir\u001b[49m\u001b[43m=\u001b[49m\u001b[38;5;28;43;01mTrue\u001b[39;49;00m\u001b[43m)\u001b[49m\n",
      "\u001b[36mFile \u001b[39m\u001b[32m~/Develop/CQCL/hugr-qir/python/hugr_qir/hugr_to_qir.py:26\u001b[39m, in \u001b[36mhugr_to_qir\u001b[39m\u001b[34m(hugr, validate_qir, emit_text)\u001b[39m\n\u001b[32m     24\u001b[39m     cli_input.write(hugr)\n\u001b[32m     25\u001b[39m \u001b[38;5;28;01mwith\u001b[39;00m Path.open(Path(temp_outfile.name), \u001b[33m\"\u001b[39m\u001b[33mw\u001b[39m\u001b[33m\"\u001b[39m) \u001b[38;5;28;01mas\u001b[39;00m cli_output:\n\u001b[32m---> \u001b[39m\u001b[32m26\u001b[39m     \u001b[43mhugr_qir_impl\u001b[49m\u001b[43m(\u001b[49m\u001b[43mvalidate_qir\u001b[49m\u001b[43m,\u001b[49m\u001b[43m \u001b[49m\u001b[43mPath\u001b[49m\u001b[43m(\u001b[49m\u001b[43mtemp_infile\u001b[49m\u001b[43m.\u001b[49m\u001b[43mname\u001b[49m\u001b[43m)\u001b[49m\u001b[43m,\u001b[49m\u001b[43m \u001b[49m\u001b[43mcli_output\u001b[49m\u001b[43m)\u001b[49m\n\u001b[32m     27\u001b[39m \u001b[38;5;28;01mwith\u001b[39;00m Path.open(Path(temp_outfile.name), \u001b[33m\"\u001b[39m\u001b[33mr\u001b[39m\u001b[33m\"\u001b[39m) \u001b[38;5;28;01mas\u001b[39;00m cli_output:\n\u001b[32m     28\u001b[39m     qir_ir = cli_output.read()\n",
      "\u001b[36mFile \u001b[39m\u001b[32m~/Develop/CQCL/hugr-qir/python/hugr_qir/cli.py:49\u001b[39m, in \u001b[36mhugr_qir_impl\u001b[39m\u001b[34m(validate, hugr_file, outfile)\u001b[39m\n\u001b[32m     47\u001b[39m         qir = output.read()\n\u001b[32m     48\u001b[39m \u001b[38;5;28;01mif\u001b[39;00m validate:\n\u001b[32m---> \u001b[39m\u001b[32m49\u001b[39m     \u001b[43mqircheck\u001b[49m\u001b[43m(\u001b[49m\u001b[43mqir\u001b[49m\u001b[43m)\u001b[49m\n\u001b[32m     51\u001b[39m outfile.write(qir)\n",
      "\u001b[36mFile \u001b[39m\u001b[32m~/Develop/CQCL/hugr-qir/.devenv/state/venv/lib/python3.12/site-packages/quantinuum_qircheck/api.py:45\u001b[39m, in \u001b[36mqircheck\u001b[39m\u001b[34m(qir)\u001b[39m\n\u001b[32m     39\u001b[39m     \u001b[38;5;28;01mraise\u001b[39;00m \u001b[38;5;167;01mValueError\u001b[39;00m(\n\u001b[32m     40\u001b[39m         \u001b[33mf\u001b[39m\u001b[33m\"\u001b[39m\u001b[33munexpected types. Expected str, bytes or pyqir.module. got : \u001b[39m\u001b[38;5;132;01m{\u001b[39;00m\u001b[38;5;28mtype\u001b[39m(qir)\u001b[38;5;132;01m}\u001b[39;00m\u001b[33m\"\u001b[39m\n\u001b[32m     41\u001b[39m     )\n\u001b[32m     43\u001b[39m \u001b[38;5;28;01massert\u001b[39;00m module.verify() \u001b[38;5;129;01mis\u001b[39;00m \u001b[38;5;28;01mNone\u001b[39;00m\n\u001b[32m---> \u001b[39m\u001b[32m45\u001b[39m \u001b[43mvalidate_qir_base\u001b[49m\u001b[43m(\u001b[49m\u001b[43mmodule\u001b[49m\u001b[43m)\u001b[49m\n\u001b[32m     47\u001b[39m \u001b[38;5;28;01mreturn\u001b[39;00m \u001b[38;5;28;01mNone\u001b[39;00m\n",
      "\u001b[36mFile \u001b[39m\u001b[32m~/Develop/CQCL/hugr-qir/.devenv/state/venv/lib/python3.12/site-packages/quantinuum_qircheck/qircheck.py:197\u001b[39m, in \u001b[36mvalidate_qir_base\u001b[39m\u001b[34m(qir_prog)\u001b[39m\n\u001b[32m    188\u001b[39m         fun_collection: \u001b[38;5;28mlist\u001b[39m[Callable[[pq.Instruction], \u001b[38;5;28mbool\u001b[39m]] = [\n\u001b[32m    189\u001b[39m             _is_valid_call_help,\n\u001b[32m    190\u001b[39m             is_jump_instr,\n\u001b[32m   (...)\u001b[39m\u001b[32m    194\u001b[39m             is_select,\n\u001b[32m    195\u001b[39m         ]\n\u001b[32m    196\u001b[39m         \u001b[38;5;28;01mif\u001b[39;00m \u001b[38;5;129;01mnot\u001b[39;00m \u001b[38;5;28many\u001b[39m(fun(instr) \u001b[38;5;28;01mfor\u001b[39;00m fun \u001b[38;5;129;01min\u001b[39;00m fun_collection):\n\u001b[32m--> \u001b[39m\u001b[32m197\u001b[39m             \u001b[38;5;28;01mraise\u001b[39;00m ValidationError(instr, line_num)\n\u001b[32m    198\u001b[39m         line_num += \u001b[32m1\u001b[39m\n\u001b[32m    199\u001b[39m \u001b[38;5;28;01mreturn\u001b[39;00m \u001b[38;5;28;01mNone\u001b[39;00m\n",
      "\u001b[31mValidationError\u001b[39m: (<builtins.Instruction object at 0x10c4644f0>, 4)"
     ]
    }
   ],
   "source": [
    "# currently it is not supported to convert guppy containing loops into QIR that is understood by H1 and H2.\n",
    "# Running this example shows the expected error.\n",
    "\n",
    "hugr = guppy.get_module().compile().package.to_bytes()\n",
    "\n",
    "guppy_qir = hugr_to_qir(hugr, validate_qir=True)\n"
   ]
  }
 ],
 "metadata": {
  "kernelspec": {
   "display_name": "venv",
   "language": "python",
   "name": "python3"
  },
  "language_info": {
   "codemirror_mode": {
    "name": "ipython",
    "version": 3
   },
   "file_extension": ".py",
   "mimetype": "text/x-python",
   "name": "python",
   "nbconvert_exporter": "python",
   "pygments_lexer": "ipython3",
   "version": "3.12.9"
  }
 },
 "nbformat": 4,
 "nbformat_minor": 5
}
